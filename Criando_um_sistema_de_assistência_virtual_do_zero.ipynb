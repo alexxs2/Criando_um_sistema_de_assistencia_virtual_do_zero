{
  "nbformat": 4,
  "nbformat_minor": 0,
  "metadata": {
    "colab": {
      "provenance": []
    },
    "kernelspec": {
      "name": "python3",
      "display_name": "Python 3"
    },
    "language_info": {
      "name": "python"
    }
  },
  "cells": [
    {
      "cell_type": "markdown",
      "source": [
        "# **BIBLIOTECAS**"
      ],
      "metadata": {
        "id": "kxBnEmGSvnkC"
      }
    },
    {
      "cell_type": "code",
      "source": [
        "!pip install gTTS\n",
        "!pip install IPython\n",
        "!pip install pyjokes\n",
        "!pip install wikipedia\n",
        "!pip install datetime"
      ],
      "metadata": {
        "colab": {
          "base_uri": "https://localhost:8080/"
        },
        "id": "53oUyQPzwVD3",
        "outputId": "125bec93-d18d-4f95-a027-b005d33fc60e"
      },
      "execution_count": 10,
      "outputs": [
        {
          "output_type": "stream",
          "name": "stdout",
          "text": [
            "Requirement already satisfied: gTTS in /usr/local/lib/python3.11/dist-packages (2.5.4)\n",
            "Requirement already satisfied: requests<3,>=2.27 in /usr/local/lib/python3.11/dist-packages (from gTTS) (2.32.3)\n",
            "Requirement already satisfied: click<8.2,>=7.1 in /usr/local/lib/python3.11/dist-packages (from gTTS) (8.1.8)\n",
            "Requirement already satisfied: charset-normalizer<4,>=2 in /usr/local/lib/python3.11/dist-packages (from requests<3,>=2.27->gTTS) (3.4.2)\n",
            "Requirement already satisfied: idna<4,>=2.5 in /usr/local/lib/python3.11/dist-packages (from requests<3,>=2.27->gTTS) (3.10)\n",
            "Requirement already satisfied: urllib3<3,>=1.21.1 in /usr/local/lib/python3.11/dist-packages (from requests<3,>=2.27->gTTS) (2.5.0)\n",
            "Requirement already satisfied: certifi>=2017.4.17 in /usr/local/lib/python3.11/dist-packages (from requests<3,>=2.27->gTTS) (2025.7.14)\n",
            "Requirement already satisfied: IPython in /usr/local/lib/python3.11/dist-packages (7.34.0)\n",
            "Requirement already satisfied: setuptools>=18.5 in /usr/local/lib/python3.11/dist-packages (from IPython) (75.2.0)\n",
            "Requirement already satisfied: jedi>=0.16 in /usr/local/lib/python3.11/dist-packages (from IPython) (0.19.2)\n",
            "Requirement already satisfied: decorator in /usr/local/lib/python3.11/dist-packages (from IPython) (4.4.2)\n",
            "Requirement already satisfied: pickleshare in /usr/local/lib/python3.11/dist-packages (from IPython) (0.7.5)\n",
            "Requirement already satisfied: traitlets>=4.2 in /usr/local/lib/python3.11/dist-packages (from IPython) (5.7.1)\n",
            "Requirement already satisfied: prompt-toolkit!=3.0.0,!=3.0.1,<3.1.0,>=2.0.0 in /usr/local/lib/python3.11/dist-packages (from IPython) (3.0.51)\n",
            "Requirement already satisfied: pygments in /usr/local/lib/python3.11/dist-packages (from IPython) (2.19.2)\n",
            "Requirement already satisfied: backcall in /usr/local/lib/python3.11/dist-packages (from IPython) (0.2.0)\n",
            "Requirement already satisfied: matplotlib-inline in /usr/local/lib/python3.11/dist-packages (from IPython) (0.1.7)\n",
            "Requirement already satisfied: pexpect>4.3 in /usr/local/lib/python3.11/dist-packages (from IPython) (4.9.0)\n",
            "Requirement already satisfied: parso<0.9.0,>=0.8.4 in /usr/local/lib/python3.11/dist-packages (from jedi>=0.16->IPython) (0.8.4)\n",
            "Requirement already satisfied: ptyprocess>=0.5 in /usr/local/lib/python3.11/dist-packages (from pexpect>4.3->IPython) (0.7.0)\n",
            "Requirement already satisfied: wcwidth in /usr/local/lib/python3.11/dist-packages (from prompt-toolkit!=3.0.0,!=3.0.1,<3.1.0,>=2.0.0->IPython) (0.2.13)\n",
            "Collecting pyjokes\n",
            "  Downloading pyjokes-0.8.3-py3-none-any.whl.metadata (3.4 kB)\n",
            "Downloading pyjokes-0.8.3-py3-none-any.whl (47 kB)\n",
            "\u001b[2K   \u001b[90m━━━━━━━━━━━━━━━━━━━━━━━━━━━━━━━━━━━━━━━━\u001b[0m \u001b[32m47.6/47.6 kB\u001b[0m \u001b[31m3.1 MB/s\u001b[0m eta \u001b[36m0:00:00\u001b[0m\n",
            "\u001b[?25hInstalling collected packages: pyjokes\n",
            "Successfully installed pyjokes-0.8.3\n",
            "Collecting wikipedia\n",
            "  Downloading wikipedia-1.4.0.tar.gz (27 kB)\n",
            "  Preparing metadata (setup.py) ... \u001b[?25l\u001b[?25hdone\n",
            "Requirement already satisfied: beautifulsoup4 in /usr/local/lib/python3.11/dist-packages (from wikipedia) (4.13.4)\n",
            "Requirement already satisfied: requests<3.0.0,>=2.0.0 in /usr/local/lib/python3.11/dist-packages (from wikipedia) (2.32.3)\n",
            "Requirement already satisfied: charset-normalizer<4,>=2 in /usr/local/lib/python3.11/dist-packages (from requests<3.0.0,>=2.0.0->wikipedia) (3.4.2)\n",
            "Requirement already satisfied: idna<4,>=2.5 in /usr/local/lib/python3.11/dist-packages (from requests<3.0.0,>=2.0.0->wikipedia) (3.10)\n",
            "Requirement already satisfied: urllib3<3,>=1.21.1 in /usr/local/lib/python3.11/dist-packages (from requests<3.0.0,>=2.0.0->wikipedia) (2.5.0)\n",
            "Requirement already satisfied: certifi>=2017.4.17 in /usr/local/lib/python3.11/dist-packages (from requests<3.0.0,>=2.0.0->wikipedia) (2025.7.14)\n",
            "Requirement already satisfied: soupsieve>1.2 in /usr/local/lib/python3.11/dist-packages (from beautifulsoup4->wikipedia) (2.7)\n",
            "Requirement already satisfied: typing-extensions>=4.0.0 in /usr/local/lib/python3.11/dist-packages (from beautifulsoup4->wikipedia) (4.14.1)\n",
            "Building wheels for collected packages: wikipedia\n",
            "  Building wheel for wikipedia (setup.py) ... \u001b[?25l\u001b[?25hdone\n",
            "  Created wheel for wikipedia: filename=wikipedia-1.4.0-py3-none-any.whl size=11678 sha256=c3fd9ed75f7cc9db84524c71ab6b3fc69e40bb4bdf1f6477a0b2bd836a224cd1\n",
            "  Stored in directory: /root/.cache/pip/wheels/8f/ab/cb/45ccc40522d3a1c41e1d2ad53b8f33a62f394011ec38cd71c6\n",
            "Successfully built wikipedia\n",
            "Installing collected packages: wikipedia\n",
            "Successfully installed wikipedia-1.4.0\n",
            "Collecting datetime\n",
            "  Downloading DateTime-5.5-py3-none-any.whl.metadata (33 kB)\n",
            "Collecting zope.interface (from datetime)\n",
            "  Downloading zope.interface-7.2-cp311-cp311-manylinux_2_5_x86_64.manylinux1_x86_64.manylinux_2_17_x86_64.manylinux2014_x86_64.whl.metadata (44 kB)\n",
            "\u001b[2K     \u001b[90m━━━━━━━━━━━━━━━━━━━━━━━━━━━━━━━━━━━━━━━━\u001b[0m \u001b[32m44.4/44.4 kB\u001b[0m \u001b[31m2.9 MB/s\u001b[0m eta \u001b[36m0:00:00\u001b[0m\n",
            "\u001b[?25hRequirement already satisfied: pytz in /usr/local/lib/python3.11/dist-packages (from datetime) (2025.2)\n",
            "Requirement already satisfied: setuptools in /usr/local/lib/python3.11/dist-packages (from zope.interface->datetime) (75.2.0)\n",
            "Downloading DateTime-5.5-py3-none-any.whl (52 kB)\n",
            "\u001b[2K   \u001b[90m━━━━━━━━━━━━━━━━━━━━━━━━━━━━━━━━━━━━━━━━\u001b[0m \u001b[32m52.6/52.6 kB\u001b[0m \u001b[31m4.5 MB/s\u001b[0m eta \u001b[36m0:00:00\u001b[0m\n",
            "\u001b[?25hDownloading zope.interface-7.2-cp311-cp311-manylinux_2_5_x86_64.manylinux1_x86_64.manylinux_2_17_x86_64.manylinux2014_x86_64.whl (259 kB)\n",
            "\u001b[2K   \u001b[90m━━━━━━━━━━━━━━━━━━━━━━━━━━━━━━━━━━━━━━━━\u001b[0m \u001b[32m259.8/259.8 kB\u001b[0m \u001b[31m14.5 MB/s\u001b[0m eta \u001b[36m0:00:00\u001b[0m\n",
            "\u001b[?25hInstalling collected packages: zope.interface, datetime\n",
            "Successfully installed datetime-5.5 zope.interface-7.2\n"
          ]
        }
      ]
    },
    {
      "cell_type": "code",
      "source": [
        "from gtts import gTTS\n",
        "from IPython.display import Audio\n",
        "import webbrowser\n",
        "import pyjokes\n",
        "import wikipedia\n",
        "from datetime import datetime"
      ],
      "metadata": {
        "id": "aGHwJKUGvmdx"
      },
      "execution_count": 12,
      "outputs": []
    },
    {
      "cell_type": "markdown",
      "source": [
        "# **Text to speech**"
      ],
      "metadata": {
        "id": "42GX5gtVwvnl"
      }
    },
    {
      "cell_type": "code",
      "execution_count": 13,
      "metadata": {
        "colab": {
          "base_uri": "https://localhost:8080/"
        },
        "id": "kAyEwMVHvjrA",
        "outputId": "bdc2ff1c-1e11-4263-b3f3-4ec7d38c8b81"
      },
      "outputs": [
        {
          "name": "stdout",
          "output_type": "stream",
          "text": [
            "write something: hello how are you ?\n"
          ]
        }
      ],
      "source": [
        "texto_usuario = input(str(\"write something: \"))\n",
        "\n",
        "language = \"en\""
      ]
    },
    {
      "cell_type": "code",
      "source": [
        "gtts_object = gTTS(text = texto_usuario,\n",
        "                  lang = language,\n",
        "                  slow = False)\n",
        "\n",
        "gtts_object.save(\"/content/gtts.wav\")"
      ],
      "metadata": {
        "id": "f0Bn76_nwF8z"
      },
      "execution_count": 14,
      "outputs": []
    },
    {
      "cell_type": "code",
      "source": [
        "Audio(\"/content/gtts.wav\")"
      ],
      "metadata": {
        "colab": {
          "base_uri": "https://localhost:8080/",
          "height": 75
        },
        "id": "r8PMa5UrwPOO",
        "outputId": "6ba5b8f7-c3d0-4915-a29f-4c88f4fb60e2"
      },
      "execution_count": 15,
      "outputs": [
        {
          "output_type": "execute_result",
          "data": {
            "text/plain": [
              "<IPython.lib.display.Audio object>"
            ],
            "text/html": [
              "\n",
              "                <audio  controls=\"controls\" >\n",
              "                    <source src=\"data:audio/x-wav;base64,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\" type=\"audio/x-wav\" />\n",
              "                    Your browser does not support the audio element.\n",
              "                </audio>\n",
              "              "
            ]
          },
          "metadata": {},
          "execution_count": 15
        }
      ]
    },
    {
      "cell_type": "markdown",
      "source": [
        "# **-Speech to text-**"
      ],
      "metadata": {
        "id": "QAbZRxhpw1Aq"
      }
    },
    {
      "cell_type": "markdown",
      "source": [
        "**obs: estou sem microfone no momento, o que não irá possibilitar fazer o comando por voz, porém estudei cuidadosamente como seria o código para tal, irei fazer um comando por texto no lugar**"
      ],
      "metadata": {
        "id": "2ce-8LcyyB1U"
      }
    },
    {
      "cell_type": "code",
      "source": [
        "def pegar_texto():\n",
        "    return input(\"Você: \").strip().lower()\n",
        "\n",
        "def texto(text):\n",
        "    print(f\"Assistente: {text}\")\n",
        "\n",
        "def responda(text):\n",
        "    print(f\"[DEBUG] Comando recebido: {text}\")\n",
        "\n",
        "    if 'youtube' in text:\n",
        "        texto(\"O que você quer buscar no YouTube?\")\n",
        "        termo = pegar_texto()\n",
        "        if termo:\n",
        "            url = f\"https://www.youtube.com/results?search_query={termo}\"\n",
        "            webbrowser.open(url)\n",
        "            texto(f\"Aqui está o que encontrei para '{termo}' no YouTube.\")\n",
        "\n",
        "    elif 'busca' in text or 'pesquisar' in text:\n",
        "        texto(\"O que você quer pesquisar na Wikipédia?\")\n",
        "        termo = pegar_texto()\n",
        "        if termo:\n",
        "            resumo = wikipedia.summary(termo, sentences=3, auto_suggest=False, redirect=True)\n",
        "            texto(\"De acordo com a Wikipédia:\")\n",
        "            print(resumo)\n",
        "\n",
        "    elif 'piada' in text or 'joke' in text:\n",
        "        piada = pyjokes.get_joke()\n",
        "        texto(piada)\n",
        "\n",
        "    elif 'que horas' in text or 'horas' in text:\n",
        "        agora = datetime.now().strftime(\"%H:%M:%S\")\n",
        "        texto(f\"A hora atual é {agora}.\")\n",
        "\n",
        "    elif 'sair' in text or 'exit' in text:\n",
        "        texto(\"Até mais! 👋\")\n",
        "        raise SystemExit\n",
        "\n",
        "    else:\n",
        "        texto(\"Desculpe, não entendi esse comando.\")\n"
      ],
      "metadata": {
        "id": "RJ0-zYokx_n4"
      },
      "execution_count": 16,
      "outputs": []
    },
    {
      "cell_type": "code",
      "source": [
        "texto(\"Olá! Eu estou pronto para receber seus comandos (digite 'sair' para encerrar).\")\n",
        "while True:\n",
        "    comando = pegar_texto()\n",
        "    responda(comando)"
      ],
      "metadata": {
        "colab": {
          "base_uri": "https://localhost:8080/",
          "height": 821
        },
        "id": "2EMuLXRz5dSh",
        "outputId": "7cf57ce0-1644-442c-e336-dbe1bd42f92b"
      },
      "execution_count": 17,
      "outputs": [
        {
          "output_type": "stream",
          "name": "stdout",
          "text": [
            "Assistente: Olá! Eu estou pronto para receber seus comandos (digite 'sair' para encerrar).\n",
            "Você: que horas ?\n",
            "[DEBUG] Comando recebido: que horas ?\n",
            "Assistente: A hora atual é 00:24:50.\n",
            "Você: piada\n",
            "[DEBUG] Comando recebido: piada\n",
            "Assistente: I suggested holding a 'Python Object Oriented Programming Seminar', but the acronym was unpopular.\n",
            "Você: joke\n",
            "[DEBUG] Comando recebido: joke\n",
            "Assistente: Old C programmers don't die, they're just cast into void.\n",
            "Você: pesquisar\n",
            "[DEBUG] Comando recebido: pesquisar\n",
            "Assistente: O que você quer pesquisar na Wikipédia?\n",
            "Você: céu\n",
            "Assistente: De acordo com a Wikipédia:\n",
            "Maria do Céu Whitaker Poças (born 17 April 1980), known professionally by the mononym Céu (Portuguese pronunciation: [sɛw]), is a Brazilian singer-songwriter whose first American album was released on the Six Degrees Records label in April 2007.\n",
            "\n",
            "\n",
            "== Early life and education ==\n",
            "\n",
            "Céu was born in São Paulo, Brazil, to a musical family. Her father was a composer, arranger, and musicologist.\n",
            "Você: pizza\n",
            "[DEBUG] Comando recebido: pizza\n",
            "Assistente: Desculpe, não entendi esse comando.\n",
            "Você: pesquisar\n",
            "[DEBUG] Comando recebido: pesquisar\n",
            "Assistente: O que você quer pesquisar na Wikipédia?\n",
            "Você: pizza\n",
            "Assistente: De acordo com a Wikipédia:\n",
            "Pizza is an Italian, specifically Neapolitan, dish typically consisting of a flat base of leavened wheat-based dough topped with tomato, cheese, and other ingredients, baked at a high temperature, traditionally in a wood-fired oven.\n",
            "The term pizza was first recorded in 997 AD, in a Latin manuscript from the southern Italian town of Gaeta, in Lazio, on the border with Campania. Raffaele Esposito is often credited for creating the modern pizza in Naples.\n",
            "Você: youtube\n",
            "[DEBUG] Comando recebido: youtube\n",
            "Assistente: O que você quer buscar no YouTube?\n",
            "Você: Ratchet & Clank\n",
            "Assistente: Aqui está o que encontrei para 'ratchet & clank' no YouTube.\n",
            "Você: sair\n",
            "[DEBUG] Comando recebido: sair\n",
            "Assistente: Até mais! 👋\n"
          ]
        },
        {
          "output_type": "error",
          "ename": "SystemExit",
          "evalue": "",
          "traceback": [
            "An exception has occurred, use %tb to see the full traceback.\n",
            "\u001b[0;31mSystemExit\u001b[0m\n"
          ]
        },
        {
          "output_type": "stream",
          "name": "stderr",
          "text": [
            "/usr/local/lib/python3.11/dist-packages/IPython/core/interactiveshell.py:3561: UserWarning: To exit: use 'exit', 'quit', or Ctrl-D.\n",
            "  warn(\"To exit: use 'exit', 'quit', or Ctrl-D.\", stacklevel=1)\n"
          ]
        }
      ]
    }
  ]
}